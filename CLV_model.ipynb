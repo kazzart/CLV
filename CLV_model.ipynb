{
 "cells": [
  {
   "cell_type": "code",
   "execution_count": 3,
   "metadata": {},
   "outputs": [],
   "source": [
    "import tensorflow as tf\n",
    "import numpy as np\n",
    "import os\n",
    "import matplotlib.pyplot as plt\n",
    "import pandas as pd"
   ]
  },
  {
   "cell_type": "markdown",
   "metadata": {},
   "source": [
    "## Loading samples"
   ]
  },
  {
   "cell_type": "code",
   "execution_count": 15,
   "metadata": {},
   "outputs": [],
   "source": [
    "data = pd.read_csv(\"CUP_IT_train_data.csv\")"
   ]
  },
  {
   "cell_type": "code",
   "execution_count": 38,
   "metadata": {},
   "outputs": [
    {
     "name": "stdout",
     "output_type": "stream",
     "text": [
      "cu_education_level - 5\n",
      "cu_empl_area - 135\n",
      "cu_empl_level - 30\n",
      "cu_eduaction_level - 5\n",
      "big_city - 4\n"
     ]
    }
   ],
   "source": [
    "# data.head(n=12)\n",
    "print(\"cu_education_level -\", len(data['cu_education_level'].unique()))\n",
    "print(\"cu_empl_area -\", len(data['cu_empl_area'].unique()))\n",
    "print(\"cu_empl_level -\", len(data['cu_empl_level'].unique()))\n",
    "print(\"cu_eduaction_level -\", len(data['cu_eduaction_level'].unique()))\n",
    "print(\"big_city -\", len(data['big_city'].unique()))"
   ]
  },
  {
   "cell_type": "code",
   "execution_count": 25,
   "metadata": {},
   "outputs": [
    {
     "name": "stdout",
     "output_type": "stream",
     "text": [
      "(4161783, 46) (396576, 46)\n"
     ]
    },
    {
     "data": {
      "text/html": [
       "<div>\n",
       "<style scoped>\n",
       "    .dataframe tbody tr th:only-of-type {\n",
       "        vertical-align: middle;\n",
       "    }\n",
       "\n",
       "    .dataframe tbody tr th {\n",
       "        vertical-align: top;\n",
       "    }\n",
       "\n",
       "    .dataframe thead th {\n",
       "        text-align: right;\n",
       "    }\n",
       "</style>\n",
       "<table border=\"1\" class=\"dataframe\">\n",
       "  <thead>\n",
       "    <tr style=\"text-align: right;\">\n",
       "      <th></th>\n",
       "      <th>cif_id</th>\n",
       "      <th>dlk_cob_date</th>\n",
       "      <th>gi_smooth_3m</th>\n",
       "      <th>big_city</th>\n",
       "      <th>cu_gender</th>\n",
       "      <th>cu_education_level</th>\n",
       "      <th>cu_empl_area</th>\n",
       "      <th>cu_empl_level</th>\n",
       "      <th>payroll_f</th>\n",
       "      <th>cur_quantity_pl</th>\n",
       "      <th>...</th>\n",
       "      <th>active</th>\n",
       "      <th>standalone_dc_f</th>\n",
       "      <th>standalone_payroll_dc_f</th>\n",
       "      <th>standalone_nonpayroll_dc_f</th>\n",
       "      <th>salary</th>\n",
       "      <th>cu_age</th>\n",
       "      <th>cu_mob</th>\n",
       "      <th>cu_empl_cur_dur_m</th>\n",
       "      <th>is_married</th>\n",
       "      <th>cu_eduaction_level</th>\n",
       "    </tr>\n",
       "  </thead>\n",
       "  <tbody>\n",
       "    <tr>\n",
       "      <th>10</th>\n",
       "      <td>335992</td>\n",
       "      <td>2018-12-31</td>\n",
       "      <td>10.812928</td>\n",
       "      <td>MLN</td>\n",
       "      <td>0</td>\n",
       "      <td>02. Среднее профессиональное</td>\n",
       "      <td>ТОРГОВЛЯ</td>\n",
       "      <td>SUPPORT STAFF</td>\n",
       "      <td>0</td>\n",
       "      <td>1</td>\n",
       "      <td>...</td>\n",
       "      <td>1</td>\n",
       "      <td>0</td>\n",
       "      <td>0</td>\n",
       "      <td>0</td>\n",
       "      <td>1192.80000</td>\n",
       "      <td>30.0</td>\n",
       "      <td>150</td>\n",
       "      <td>52.0</td>\n",
       "      <td>1</td>\n",
       "      <td>2</td>\n",
       "    </tr>\n",
       "    <tr>\n",
       "      <th>23</th>\n",
       "      <td>198842</td>\n",
       "      <td>2018-12-31</td>\n",
       "      <td>4.287918</td>\n",
       "      <td>SPB</td>\n",
       "      <td>0</td>\n",
       "      <td>NaN</td>\n",
       "      <td>NaN</td>\n",
       "      <td>NaN</td>\n",
       "      <td>1</td>\n",
       "      <td>0</td>\n",
       "      <td>...</td>\n",
       "      <td>1</td>\n",
       "      <td>0</td>\n",
       "      <td>0</td>\n",
       "      <td>0</td>\n",
       "      <td>1801.29600</td>\n",
       "      <td>45.0</td>\n",
       "      <td>23</td>\n",
       "      <td>83.0</td>\n",
       "      <td>0</td>\n",
       "      <td>-100</td>\n",
       "    </tr>\n",
       "    <tr>\n",
       "      <th>26</th>\n",
       "      <td>234815</td>\n",
       "      <td>2018-12-31</td>\n",
       "      <td>7.303600</td>\n",
       "      <td>MSK</td>\n",
       "      <td>1</td>\n",
       "      <td>NaN</td>\n",
       "      <td>NaN</td>\n",
       "      <td>SUPPORT STAFF</td>\n",
       "      <td>1</td>\n",
       "      <td>0</td>\n",
       "      <td>...</td>\n",
       "      <td>1</td>\n",
       "      <td>1</td>\n",
       "      <td>1</td>\n",
       "      <td>0</td>\n",
       "      <td>1360.09368</td>\n",
       "      <td>46.0</td>\n",
       "      <td>161</td>\n",
       "      <td>187.0</td>\n",
       "      <td>1</td>\n",
       "      <td>-100</td>\n",
       "    </tr>\n",
       "    <tr>\n",
       "      <th>38</th>\n",
       "      <td>232515</td>\n",
       "      <td>2018-12-31</td>\n",
       "      <td>55.700637</td>\n",
       "      <td>OTH</td>\n",
       "      <td>0</td>\n",
       "      <td>03. Высшее</td>\n",
       "      <td>Государственная служба</td>\n",
       "      <td>QUALIFIED STAFF</td>\n",
       "      <td>0</td>\n",
       "      <td>0</td>\n",
       "      <td>...</td>\n",
       "      <td>1</td>\n",
       "      <td>0</td>\n",
       "      <td>0</td>\n",
       "      <td>0</td>\n",
       "      <td>1872.00000</td>\n",
       "      <td>47.0</td>\n",
       "      <td>138</td>\n",
       "      <td>27.0</td>\n",
       "      <td>1</td>\n",
       "      <td>3</td>\n",
       "    </tr>\n",
       "    <tr>\n",
       "      <th>53</th>\n",
       "      <td>349326</td>\n",
       "      <td>2018-06-30</td>\n",
       "      <td>30.126211</td>\n",
       "      <td>OTH</td>\n",
       "      <td>1</td>\n",
       "      <td>02. Среднее профессиональное</td>\n",
       "      <td>ЗДРАВООХРАНЕНИЕ</td>\n",
       "      <td>SUPPORT STAFF</td>\n",
       "      <td>0</td>\n",
       "      <td>0</td>\n",
       "      <td>...</td>\n",
       "      <td>1</td>\n",
       "      <td>0</td>\n",
       "      <td>0</td>\n",
       "      <td>0</td>\n",
       "      <td>720.00000</td>\n",
       "      <td>60.0</td>\n",
       "      <td>56</td>\n",
       "      <td>18.0</td>\n",
       "      <td>1</td>\n",
       "      <td>2</td>\n",
       "    </tr>\n",
       "  </tbody>\n",
       "</table>\n",
       "<p>5 rows × 46 columns</p>\n",
       "</div>"
      ],
      "text/plain": [
       "    cif_id dlk_cob_date  gi_smooth_3m big_city  cu_gender  \\\n",
       "10  335992   2018-12-31     10.812928      MLN          0   \n",
       "23  198842   2018-12-31      4.287918      SPB          0   \n",
       "26  234815   2018-12-31      7.303600      MSK          1   \n",
       "38  232515   2018-12-31     55.700637      OTH          0   \n",
       "53  349326   2018-06-30     30.126211      OTH          1   \n",
       "\n",
       "              cu_education_level            cu_empl_area    cu_empl_level  \\\n",
       "10  02. Среднее профессиональное                ТОРГОВЛЯ    SUPPORT STAFF   \n",
       "23                           NaN                     NaN              NaN   \n",
       "26                           NaN                     NaN    SUPPORT STAFF   \n",
       "38                    03. Высшее  Государственная служба  QUALIFIED STAFF   \n",
       "53  02. Среднее профессиональное         ЗДРАВООХРАНЕНИЕ    SUPPORT STAFF   \n",
       "\n",
       "    payroll_f  cur_quantity_pl  ...  active  standalone_dc_f  \\\n",
       "10          0                1  ...       1                0   \n",
       "23          1                0  ...       1                0   \n",
       "26          1                0  ...       1                1   \n",
       "38          0                0  ...       1                0   \n",
       "53          0                0  ...       1                0   \n",
       "\n",
       "    standalone_payroll_dc_f  standalone_nonpayroll_dc_f      salary  cu_age  \\\n",
       "10                        0                           0  1192.80000    30.0   \n",
       "23                        0                           0  1801.29600    45.0   \n",
       "26                        1                           0  1360.09368    46.0   \n",
       "38                        0                           0  1872.00000    47.0   \n",
       "53                        0                           0   720.00000    60.0   \n",
       "\n",
       "    cu_mob  cu_empl_cur_dur_m  is_married  cu_eduaction_level  \n",
       "10     150               52.0           1                   2  \n",
       "23      23               83.0           0                -100  \n",
       "26     161              187.0           1                -100  \n",
       "38     138               27.0           1                   3  \n",
       "53      56               18.0           1                   2  \n",
       "\n",
       "[5 rows x 46 columns]"
      ]
     },
     "execution_count": 25,
     "metadata": {},
     "output_type": "execute_result"
    }
   ],
   "source": [
    "data_last = data.sort_values('dlk_cob_date').groupby('cif_id').tail(1)\n",
    "print(data.shape, data_last.shape)\n",
    "data_last.sort_index().head()\n",
    "# X.shape"
   ]
  },
  {
   "cell_type": "markdown",
   "metadata": {},
   "source": [
    "# Not updated yet!!!"
   ]
  },
  {
   "cell_type": "markdown",
   "metadata": {},
   "source": [
    "## Split into validation and train data"
   ]
  },
  {
   "cell_type": "code",
   "execution_count": 66,
   "metadata": {},
   "outputs": [
    {
     "data": {
      "text/plain": [
       "(240, 20, 65, 1)"
      ]
     },
     "execution_count": 66,
     "metadata": {},
     "output_type": "execute_result"
    }
   ],
   "source": [
    "X_val = np.append(X[:120], X[-120:], axis=0)\n",
    "X_train = X[120:-120]\n",
    "Y_val = np.append(Y[:120], Y[-120:], axis=0)\n",
    "Y_train = Y[120:-120]\n",
    "X_val.shape"
   ]
  },
  {
   "cell_type": "markdown",
   "metadata": {},
   "source": [
    "## Preparing dataset"
   ]
  },
  {
   "cell_type": "code",
   "execution_count": 67,
   "metadata": {},
   "outputs": [],
   "source": [
    "val_dataset = tf.data.Dataset.from_tensor_slices((X_val, Y_val)).repeat().shuffle(len(X_val)).batch(32)\n",
    "train_dataset = tf.data.Dataset.from_tensor_slices((X_train, Y_train)).repeat().shuffle(len(X_train)).batch(256)"
   ]
  },
  {
   "cell_type": "markdown",
   "metadata": {},
   "source": [
    "## Preparing model"
   ]
  },
  {
   "cell_type": "code",
   "execution_count": 68,
   "metadata": {},
   "outputs": [],
   "source": [
    "model = tf.keras.Sequential([\n",
    "    tf.keras.layers.Conv2D(128, kernel_size=3, activation='relu', input_shape=(20, 65, 1)),\n",
    "    tf.keras.layers.MaxPooling2D((2, 2)),\n",
    "    tf.keras.layers.Conv2D(64, kernel_size=3, activation='relu'),\n",
    "    tf.keras.layers.MaxPooling2D((2, 2)),\n",
    "    tf.keras.layers.Conv2D(32, (3, 3), activation='relu'),\n",
    "    tf.keras.layers.Flatten(),\n",
    "    tf.keras.layers.Dense(10, activation='softmax'),\n",
    "    tf.keras.layers.Dense(2, activation='softmax')\n",
    "])"
   ]
  },
  {
   "cell_type": "code",
   "execution_count": 69,
   "metadata": {},
   "outputs": [],
   "source": [
    "sgd = tf.keras.optimizers.SGD(lr=0.0001, decay=1e-6, momentum=0.9, nesterov=True)"
   ]
  },
  {
   "cell_type": "code",
   "execution_count": 70,
   "metadata": {},
   "outputs": [],
   "source": [
    "# model.compile(loss='sparse_categorical_crossentropy',\n",
    "#               optimizer=sgd,\n",
    "#               metrics=['accuracy'])\n",
    "model.compile(optimizer=sgd,\n",
    "              loss=tf.keras.losses.SparseCategoricalCrossentropy(from_logits=True),\n",
    "              metrics=['accuracy'])"
   ]
  },
  {
   "cell_type": "markdown",
   "metadata": {},
   "source": [
    "## Train model"
   ]
  },
  {
   "cell_type": "code",
   "execution_count": 84,
   "metadata": {},
   "outputs": [
    {
     "name": "stdout",
     "output_type": "stream",
     "text": [
      "Train for 2 steps, validate for 4 steps\n",
      "Epoch 1/50\n",
      "2/2 [==============================] - 1s 675ms/step - loss: 0.6389 - accuracy: 0.9023 - val_loss: 0.6898 - val_accuracy: 0.5156\n",
      "Epoch 2/50\n",
      "2/2 [==============================] - 1s 641ms/step - loss: 0.6393 - accuracy: 0.8848 - val_loss: 0.6766 - val_accuracy: 0.6094\n",
      "Epoch 3/50\n",
      "2/2 [==============================] - 1s 620ms/step - loss: 0.6357 - accuracy: 0.9004 - val_loss: 0.6851 - val_accuracy: 0.5234\n",
      "Epoch 4/50\n",
      "2/2 [==============================] - 1s 659ms/step - loss: 0.6332 - accuracy: 0.9219 - val_loss: 0.6851 - val_accuracy: 0.5703\n",
      "Epoch 5/50\n",
      "2/2 [==============================] - 1s 613ms/step - loss: 0.6331 - accuracy: 0.9102 - val_loss: 0.6830 - val_accuracy: 0.5703\n",
      "Epoch 6/50\n",
      "2/2 [==============================] - 1s 617ms/step - loss: 0.6368 - accuracy: 0.9102 - val_loss: 0.6864 - val_accuracy: 0.5234\n",
      "Epoch 7/50\n",
      "2/2 [==============================] - 1s 643ms/step - loss: 0.6362 - accuracy: 0.9102 - val_loss: 0.6880 - val_accuracy: 0.5312\n",
      "Epoch 8/50\n",
      "2/2 [==============================] - 1s 660ms/step - loss: 0.6339 - accuracy: 0.9004 - val_loss: 0.6885 - val_accuracy: 0.5000\n",
      "Epoch 9/50\n",
      "2/2 [==============================] - 1s 670ms/step - loss: 0.6346 - accuracy: 0.9062 - val_loss: 0.6779 - val_accuracy: 0.6094\n",
      "Epoch 10/50\n",
      "2/2 [==============================] - 1s 582ms/step - loss: 0.6361 - accuracy: 0.9180 - val_loss: 0.6848 - val_accuracy: 0.5703\n",
      "Epoch 11/50\n",
      "2/2 [==============================] - 1s 582ms/step - loss: 0.6429 - accuracy: 0.8730 - val_loss: 0.6827 - val_accuracy: 0.5859\n",
      "Epoch 12/50\n",
      "2/2 [==============================] - 1s 640ms/step - loss: 0.6378 - accuracy: 0.9082 - val_loss: 0.6831 - val_accuracy: 0.5547\n",
      "Epoch 13/50\n",
      "2/2 [==============================] - 1s 600ms/step - loss: 0.6331 - accuracy: 0.9141 - val_loss: 0.6805 - val_accuracy: 0.5625\n",
      "Epoch 14/50\n",
      "2/2 [==============================] - 1s 597ms/step - loss: 0.6352 - accuracy: 0.9121 - val_loss: 0.6833 - val_accuracy: 0.5469\n",
      "Epoch 15/50\n",
      "2/2 [==============================] - 1s 612ms/step - loss: 0.6315 - accuracy: 0.9258 - val_loss: 0.6769 - val_accuracy: 0.6172\n",
      "Epoch 16/50\n",
      "2/2 [==============================] - 1s 593ms/step - loss: 0.6356 - accuracy: 0.9199 - val_loss: 0.6853 - val_accuracy: 0.5547\n",
      "Epoch 17/50\n",
      "2/2 [==============================] - 1s 602ms/step - loss: 0.6383 - accuracy: 0.9102 - val_loss: 0.6831 - val_accuracy: 0.5703\n",
      "Epoch 18/50\n",
      "2/2 [==============================] - 1s 598ms/step - loss: 0.6341 - accuracy: 0.9160 - val_loss: 0.6853 - val_accuracy: 0.5547\n",
      "Epoch 19/50\n",
      "2/2 [==============================] - 1s 583ms/step - loss: 0.6312 - accuracy: 0.9297 - val_loss: 0.6859 - val_accuracy: 0.5469\n",
      "Epoch 20/50\n",
      "2/2 [==============================] - 1s 587ms/step - loss: 0.6325 - accuracy: 0.9219 - val_loss: 0.6756 - val_accuracy: 0.6328\n",
      "Epoch 21/50\n",
      "2/2 [==============================] - 1s 598ms/step - loss: 0.6325 - accuracy: 0.9199 - val_loss: 0.6836 - val_accuracy: 0.5547\n",
      "Epoch 22/50\n",
      "2/2 [==============================] - 1s 615ms/step - loss: 0.6361 - accuracy: 0.9219 - val_loss: 0.6894 - val_accuracy: 0.5312\n",
      "Epoch 23/50\n",
      "2/2 [==============================] - 1s 583ms/step - loss: 0.6360 - accuracy: 0.9082 - val_loss: 0.6926 - val_accuracy: 0.4922\n",
      "Epoch 24/50\n",
      "2/2 [==============================] - 1s 574ms/step - loss: 0.6350 - accuracy: 0.9043 - val_loss: 0.6826 - val_accuracy: 0.5625\n",
      "Epoch 25/50\n",
      "2/2 [==============================] - 1s 618ms/step - loss: 0.6285 - accuracy: 0.9434 - val_loss: 0.6863 - val_accuracy: 0.5625\n",
      "Epoch 26/50\n",
      "2/2 [==============================] - 1s 606ms/step - loss: 0.6322 - accuracy: 0.9121 - val_loss: 0.6864 - val_accuracy: 0.5391\n",
      "Epoch 27/50\n",
      "2/2 [==============================] - 1s 591ms/step - loss: 0.6334 - accuracy: 0.9199 - val_loss: 0.6861 - val_accuracy: 0.5469\n",
      "Epoch 28/50\n",
      "2/2 [==============================] - 1s 597ms/step - loss: 0.6326 - accuracy: 0.9258 - val_loss: 0.6839 - val_accuracy: 0.5547\n",
      "Epoch 29/50\n",
      "2/2 [==============================] - 1s 582ms/step - loss: 0.6361 - accuracy: 0.8945 - val_loss: 0.6747 - val_accuracy: 0.6172\n",
      "Epoch 30/50\n",
      "2/2 [==============================] - 1s 596ms/step - loss: 0.6302 - accuracy: 0.9277 - val_loss: 0.6848 - val_accuracy: 0.5547\n",
      "Epoch 31/50\n",
      "2/2 [==============================] - 1s 650ms/step - loss: 0.6258 - accuracy: 0.9414 - val_loss: 0.6787 - val_accuracy: 0.6016\n",
      "Epoch 32/50\n",
      "2/2 [==============================] - 1s 702ms/step - loss: 0.6309 - accuracy: 0.9297 - val_loss: 0.6811 - val_accuracy: 0.5781\n",
      "Epoch 33/50\n",
      "2/2 [==============================] - 1s 667ms/step - loss: 0.6337 - accuracy: 0.9180 - val_loss: 0.6788 - val_accuracy: 0.6016\n",
      "Epoch 34/50\n",
      "2/2 [==============================] - 1s 692ms/step - loss: 0.6350 - accuracy: 0.9121 - val_loss: 0.6825 - val_accuracy: 0.5469\n",
      "Epoch 35/50\n",
      "2/2 [==============================] - 1s 675ms/step - loss: 0.6290 - accuracy: 0.9082 - val_loss: 0.6903 - val_accuracy: 0.5000\n",
      "Epoch 36/50\n",
      "2/2 [==============================] - 1s 671ms/step - loss: 0.6272 - accuracy: 0.9238 - val_loss: 0.6808 - val_accuracy: 0.5781\n",
      "Epoch 37/50\n",
      "2/2 [==============================] - 1s 713ms/step - loss: 0.6294 - accuracy: 0.9277 - val_loss: 0.6829 - val_accuracy: 0.5781\n",
      "Epoch 38/50\n",
      "2/2 [==============================] - 1s 710ms/step - loss: 0.6309 - accuracy: 0.9277 - val_loss: 0.6917 - val_accuracy: 0.4922\n",
      "Epoch 39/50\n",
      "2/2 [==============================] - 1s 673ms/step - loss: 0.6344 - accuracy: 0.9102 - val_loss: 0.6778 - val_accuracy: 0.6328\n",
      "Epoch 40/50\n",
      "2/2 [==============================] - 1s 696ms/step - loss: 0.6336 - accuracy: 0.9082 - val_loss: 0.6879 - val_accuracy: 0.5469\n",
      "Epoch 41/50\n",
      "2/2 [==============================] - 1s 661ms/step - loss: 0.6308 - accuracy: 0.9141 - val_loss: 0.6851 - val_accuracy: 0.5781\n",
      "Epoch 42/50\n",
      "2/2 [==============================] - 1s 584ms/step - loss: 0.6294 - accuracy: 0.9121 - val_loss: 0.6809 - val_accuracy: 0.5781\n",
      "Epoch 43/50\n",
      "2/2 [==============================] - 1s 606ms/step - loss: 0.6299 - accuracy: 0.9316 - val_loss: 0.6818 - val_accuracy: 0.5781\n",
      "Epoch 44/50\n",
      "2/2 [==============================] - 1s 670ms/step - loss: 0.6322 - accuracy: 0.9238 - val_loss: 0.6760 - val_accuracy: 0.6328\n",
      "Epoch 45/50\n",
      "2/2 [==============================] - 1s 636ms/step - loss: 0.6299 - accuracy: 0.9375 - val_loss: 0.6788 - val_accuracy: 0.6016\n",
      "Epoch 46/50\n",
      "2/2 [==============================] - 1s 581ms/step - loss: 0.6272 - accuracy: 0.9297 - val_loss: 0.6869 - val_accuracy: 0.5625\n",
      "Epoch 47/50\n",
      "2/2 [==============================] - 1s 648ms/step - loss: 0.6245 - accuracy: 0.9453 - val_loss: 0.6884 - val_accuracy: 0.5312\n",
      "Epoch 48/50\n",
      "2/2 [==============================] - 1s 612ms/step - loss: 0.6318 - accuracy: 0.9062 - val_loss: 0.6782 - val_accuracy: 0.6172\n",
      "Epoch 49/50\n",
      "2/2 [==============================] - 1s 628ms/step - loss: 0.6268 - accuracy: 0.9453 - val_loss: 0.6795 - val_accuracy: 0.5938\n",
      "Epoch 50/50\n",
      "2/2 [==============================] - 1s 672ms/step - loss: 0.6328 - accuracy: 0.9160 - val_loss: 0.6888 - val_accuracy: 0.5234\n"
     ]
    },
    {
     "data": {
      "text/plain": [
       "<tensorflow.python.keras.callbacks.History at 0x2c85ddcce48>"
      ]
     },
     "execution_count": 84,
     "metadata": {},
     "output_type": "execute_result"
    }
   ],
   "source": [
    "model.fit(train_dataset, epochs=50, validation_data=val_dataset, steps_per_epoch=2, validation_steps=4)"
   ]
  }
 ],
 "metadata": {
  "kernelspec": {
   "display_name": "Python 3",
   "language": "python",
   "name": "python3"
  },
  "language_info": {
   "codemirror_mode": {
    "name": "ipython",
    "version": 3
   },
   "file_extension": ".py",
   "mimetype": "text/x-python",
   "name": "python",
   "nbconvert_exporter": "python",
   "pygments_lexer": "ipython3",
   "version": "3.7.6"
  }
 },
 "nbformat": 4,
 "nbformat_minor": 4
}
